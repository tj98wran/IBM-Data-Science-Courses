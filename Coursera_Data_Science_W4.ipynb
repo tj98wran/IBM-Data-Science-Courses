{
    "cells": [
        {
            "cell_type": "markdown",
            "id": "2683443e-f0b2-4f48-81ff-fb5bed1104b2",
            "metadata": {},
            "source": "# My Jupyter Notebook on IBM Watson Studio"
        },
        {
            "cell_type": "markdown",
            "id": "3a4c283e-87df-4d23-b88a-2197533320ed",
            "metadata": {},
            "source": "**TJ Reynolds**  \n8th grade physics and chemistry teacher working to transition into a career in data science."
        },
        {
            "cell_type": "markdown",
            "id": "e986d677-4cc2-4b58-9e10-23b953d4b246",
            "metadata": {},
            "source": "*I am pursuing a career change into data science in the hopes that these skills can be used to improve public education.  \nCurrently, there is much so much data generated in schools, yet it is not utilized effectively to support teachers and students.*"
        },
        {
            "cell_type": "markdown",
            "id": "f43aad90-9b06-4d50-9bee-052ff463775d",
            "metadata": {},
            "source": "### This notebook will show calculations and predictions for how long it would take to complete the IBM Data Science Course in Coursera, calculating how many hours each module and course require and a variable amount of hours per week spent in the program. ###\n------------------------------------------------------------------------------------------------------------------  \n#### Data Table used for calculation shown at end of document ####"
        },
        {
            "cell_type": "code",
            "execution_count": 6,
            "id": "4a88882f-53fb-4bfb-8f34-d1e37cdf2640",
            "metadata": {},
            "outputs": [
                {
                    "name": "stdout",
                    "output_type": "stream",
                    "text": "146\n"
                }
            ],
            "source": "print(8+19+8+19+7+20+15+17+22+11)"
        },
        {
            "cell_type": "markdown",
            "id": "fdd04ccb-c574-4f9f-91c0-21d813ee4f5e",
            "metadata": {},
            "source": "---  \n#### Given 146 approximate hours to complete the certification, we can calculate the number of weeks needed to complete the certification by approximating how many hours per week we plan on working in the course.  \n---"
        },
        {
            "cell_type": "code",
            "execution_count": 7,
            "id": "0b85ba05-06ab-46de-bd78-0584c4b8d19a",
            "metadata": {},
            "outputs": [
                {
                    "name": "stdout",
                    "output_type": "stream",
                    "text": "146 hours / 7 hours per week = 21.0 weeks to complete course\n"
                }
            ],
            "source": "print(\"146 hours / 7 hours per week =\", 147/7, \"weeks to complete course\")"
        },
        {
            "cell_type": "markdown",
            "id": "853cf257-3130-4fa3-b263-a5540d782170",
            "metadata": {},
            "source": "---  \n#### Take the number of weeks to complete and divide by weeks in a month to get an approximation of how many months needed to complete the certification. \n---"
        },
        {
            "cell_type": "code",
            "execution_count": 8,
            "id": "74856f40-3315-416e-b1c1-a695ee03b15a",
            "metadata": {},
            "outputs": [
                {
                    "name": "stdout",
                    "output_type": "stream",
                    "text": "21 weeks divided by 4 weeks per month = 5.25 months to complete the course.\n"
                }
            ],
            "source": "print(\"21 weeks divided by 4 weeks per month =\", 21/4, \"months to complete the course.\")"
        },
        {
            "cell_type": "markdown",
            "id": "533274f0-e586-4a71-a5f5-35d853416407",
            "metadata": {},
            "source": "------  \n##### <a href=\"www.coursera.org/professional-certificates/ibm-data-science\"> Data from Coursera </a> \n------"
        },
        {
            "cell_type": "markdown",
            "metadata": {},
            "source": "| `Course` | `Hours of Material` |\n| --- | --- |\n| `What is Data Science` | `8` |\n| `Tools for Data Science` | `19` |\n| `Data Science Methodology` | `8` |\n| `Python for Data Science` | `19` |\n| `Python Project` | `7` |\n| `Database & SQL for Python` | `20` |\n| `Data Analysis with Python` | `15` |\n| `Data Visualization with Python` | `17` |\n| `Machine Learning with Python` | `22` |\n| `Applied Data Science Capstone` | `11` |\n| `Total Hours` | `146` |"
        },
        {
            "attachments": {
                "image.png": {
                    "image/png": "[encoded data removed]"
                }
            },
            "cell_type": "markdown",
            "metadata": {},
            "source": "![image.png](attachment:image.png)"
        }
    ],
    "metadata": {
        "kernelspec": {
            "display_name": "Python 3.8",
            "language": "python",
            "name": "python3"
        },
        "language_info": {
            "codemirror_mode": {
                "name": "ipython",
                "version": 3
            },
            "file_extension": ".py",
            "mimetype": "text/x-python",
            "name": "python",
            "nbconvert_exporter": "python",
            "pygments_lexer": "ipython3",
            "version": "3.8.12"
        }
    },
    "nbformat": 4,
    "nbformat_minor": 5
}